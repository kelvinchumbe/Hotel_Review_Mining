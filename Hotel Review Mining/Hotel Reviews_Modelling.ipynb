{
 "cells": [
  {
   "cell_type": "code",
   "execution_count": 1,
   "id": "continent-russell",
   "metadata": {},
   "outputs": [],
   "source": [
    "import os\n",
    "import pandas as pd\n",
    "import numpy as np\n",
    "import matplotlib.pyplot as plt\n",
    "import seaborn as sns\n",
    "sns.set()\n",
    "\n",
    "%matplotlib inline"
   ]
  },
  {
   "cell_type": "code",
   "execution_count": 2,
   "id": "announced-produce",
   "metadata": {},
   "outputs": [],
   "source": [
    "import tensorflow as tf\n",
    "from tensorflow.keras import Sequential\n",
    "from tensorflow.keras.layers import Dense, Input, Bidirectional, LSTM, Embedding, Dropout, SpatialDropout1D\n",
    "from tensorflow.keras.optimizers import Adam, RMSprop, SGD\n",
    "from tensorflow.keras.utils import to_categorical\n",
    "from tensorflow.keras.preprocessing.sequence import pad_sequences\n",
    "from tensorflow.keras.preprocessing.text import Tokenizer\n",
    "from tensorflow.keras.callbacks import EarlyStopping, ModelCheckpoint"
   ]
  },
  {
   "cell_type": "code",
   "execution_count": 3,
   "id": "becoming-magnet",
   "metadata": {},
   "outputs": [],
   "source": [
    "# Load in preprocessed reviews\n",
    "reviews = pd.read_csv(\"C:/Users/Kelvin Chumbe/Anaconda Projects/Hotel Review Mining/Preprocessed_Reviews.csv\")"
   ]
  },
  {
   "cell_type": "code",
   "execution_count": 4,
   "id": "center-clear",
   "metadata": {},
   "outputs": [
    {
     "data": {
      "text/html": [
       "<div>\n",
       "<style scoped>\n",
       "    .dataframe tbody tr th:only-of-type {\n",
       "        vertical-align: middle;\n",
       "    }\n",
       "\n",
       "    .dataframe tbody tr th {\n",
       "        vertical-align: top;\n",
       "    }\n",
       "\n",
       "    .dataframe thead th {\n",
       "        text-align: right;\n",
       "    }\n",
       "</style>\n",
       "<table border=\"1\" class=\"dataframe\">\n",
       "  <thead>\n",
       "    <tr style=\"text-align: right;\">\n",
       "      <th></th>\n",
       "      <th>hotel</th>\n",
       "      <th>review</th>\n",
       "      <th>title</th>\n",
       "      <th>rating</th>\n",
       "      <th>date</th>\n",
       "      <th>month</th>\n",
       "      <th>year</th>\n",
       "    </tr>\n",
       "  </thead>\n",
       "  <tbody>\n",
       "    <tr>\n",
       "      <th>0</th>\n",
       "      <td>Sarova Whitesands Beach Resort &amp; Spa</td>\n",
       "      <td>land country first lunch lido restaurant besid...</td>\n",
       "      <td>refresh getaway</td>\n",
       "      <td>5.0</td>\n",
       "      <td>2021-03-01</td>\n",
       "      <td>3</td>\n",
       "      <td>2021</td>\n",
       "    </tr>\n",
       "    <tr>\n",
       "      <th>1</th>\n",
       "      <td>Sarova Whitesands Beach Resort &amp; Spa</td>\n",
       "      <td>high speed wifi myth complaints dismiss advise...</td>\n",
       "      <td>meet expectations</td>\n",
       "      <td>3.0</td>\n",
       "      <td>2021-03-01</td>\n",
       "      <td>3</td>\n",
       "      <td>2021</td>\n",
       "    </tr>\n",
       "    <tr>\n",
       "      <th>2</th>\n",
       "      <td>Sarova Whitesands Beach Resort &amp; Spa</td>\n",
       "      <td>thank white sand staff amaze stay delicious fo...</td>\n",
       "      <td>relax spoil</td>\n",
       "      <td>4.0</td>\n",
       "      <td>2020-12-01</td>\n",
       "      <td>12</td>\n",
       "      <td>2020</td>\n",
       "    </tr>\n",
       "    <tr>\n",
       "      <th>3</th>\n",
       "      <td>Sarova Whitesands Beach Resort &amp; Spa</td>\n",
       "      <td>travel family days together children pool face...</td>\n",
       "      <td>fantastic stay</td>\n",
       "      <td>5.0</td>\n",
       "      <td>2021-02-01</td>\n",
       "      <td>2</td>\n",
       "      <td>2021</td>\n",
       "    </tr>\n",
       "    <tr>\n",
       "      <th>4</th>\n",
       "      <td>Sarova Whitesands Beach Resort &amp; Spa</td>\n",
       "      <td>beautiful place despite fact covid19 measure s...</td>\n",
       "      <td>five days stay sarova whitesands hotel</td>\n",
       "      <td>5.0</td>\n",
       "      <td>2021-02-01</td>\n",
       "      <td>2</td>\n",
       "      <td>2021</td>\n",
       "    </tr>\n",
       "  </tbody>\n",
       "</table>\n",
       "</div>"
      ],
      "text/plain": [
       "                                  hotel  \\\n",
       "0  Sarova Whitesands Beach Resort & Spa   \n",
       "1  Sarova Whitesands Beach Resort & Spa   \n",
       "2  Sarova Whitesands Beach Resort & Spa   \n",
       "3  Sarova Whitesands Beach Resort & Spa   \n",
       "4  Sarova Whitesands Beach Resort & Spa   \n",
       "\n",
       "                                              review  \\\n",
       "0  land country first lunch lido restaurant besid...   \n",
       "1  high speed wifi myth complaints dismiss advise...   \n",
       "2  thank white sand staff amaze stay delicious fo...   \n",
       "3  travel family days together children pool face...   \n",
       "4  beautiful place despite fact covid19 measure s...   \n",
       "\n",
       "                                    title  rating        date  month  year  \n",
       "0                         refresh getaway     5.0  2021-03-01      3  2021  \n",
       "1                       meet expectations     3.0  2021-03-01      3  2021  \n",
       "2                             relax spoil     4.0  2020-12-01     12  2020  \n",
       "3                          fantastic stay     5.0  2021-02-01      2  2021  \n",
       "4  five days stay sarova whitesands hotel     5.0  2021-02-01      2  2021  "
      ]
     },
     "execution_count": 4,
     "metadata": {},
     "output_type": "execute_result"
    }
   ],
   "source": [
    "reviews.head()"
   ]
  },
  {
   "cell_type": "code",
   "execution_count": 5,
   "id": "wrong-bridges",
   "metadata": {},
   "outputs": [],
   "source": [
    "GLOVE_DIR = \"C:/Users/Kelvin Chumbe/Downloads/Datasets/GloVe_archive\""
   ]
  },
  {
   "cell_type": "code",
   "execution_count": 6,
   "id": "recorded-convenience",
   "metadata": {},
   "outputs": [],
   "source": [
    "# Create glove embeddings dict from glove file\n",
    "glove_path = os.path.join(GLOVE_DIR, \"glove.6B.50d.txt\")\n",
    "glove_embeddings= {}\n",
    "EMBEDDING_DIM = 50\n",
    "\n",
    "with open(glove_path, encoding='utf8') as file:\n",
    "    for line in file:\n",
    "        line = line.split()\n",
    "        word = line[0]\n",
    "        embedding = line[1:]\n",
    "\n",
    "        glove_embeddings[word] = np.asarray(embedding, dtype='float32')"
   ]
  },
  {
   "cell_type": "code",
   "execution_count": 7,
   "id": "victorian-overall",
   "metadata": {},
   "outputs": [
    {
     "data": {
      "text/plain": [
       "630"
      ]
     },
     "execution_count": 7,
     "metadata": {},
     "output_type": "execute_result"
    }
   ],
   "source": [
    "reviews['review'].str.len().max()"
   ]
  },
  {
   "cell_type": "code",
   "execution_count": 8,
   "id": "logical-suicide",
   "metadata": {
    "scrolled": true
   },
   "outputs": [
    {
     "name": "stdout",
     "output_type": "stream",
     "text": [
      "0    land country first lunch lido restaurant besid...\n",
      "1    high speed wifi myth complaints dismiss advise...\n",
      "2    thank white sand staff amaze stay delicious fo...\n",
      "Name: review, dtype: object\n",
      "[[ 928  862   61 ...    0    0    0]\n",
      " [ 189 1097  134 ...    0    0    0]\n",
      " [  71  384  628 ...    0    0    0]]\n",
      "Found 13015 unique tokens.\n"
     ]
    }
   ],
   "source": [
    "# Tokenize and pad tweets\n",
    "reviews_text = reviews['review']\n",
    "\n",
    "print(reviews_text[:3])\n",
    "\n",
    "tokenizer = Tokenizer()\n",
    "tokenizer.fit_on_texts(reviews_text)\n",
    "sequences = tokenizer.texts_to_sequences(reviews_text)\n",
    "\n",
    "reviews_text = pad_sequences(sequences, maxlen=630, padding='post')\n",
    "\n",
    "print(reviews_text[:3])\n",
    "\n",
    "print('Found {} unique tokens.'.format(len(tokenizer.word_index)))"
   ]
  },
  {
   "cell_type": "code",
   "execution_count": 9,
   "id": "joint-essex",
   "metadata": {},
   "outputs": [],
   "source": [
    "# Create weight matrix\n",
    "embedding_matrix = np.random.random((len(tokenizer.word_index) + 1, EMBEDDING_DIM))\n",
    "\n",
    "for word, i in tokenizer.word_index.items():\n",
    "    embedding_vec = glove_embeddings.get(word)\n",
    "        \n",
    "    if embedding_vec is not None:\n",
    "        embedding_matrix[i] = embedding_vec \n"
   ]
  },
  {
   "cell_type": "code",
   "execution_count": 10,
   "id": "certain-french",
   "metadata": {},
   "outputs": [
    {
     "data": {
      "text/plain": [
       "array([0.1591819 , 0.01237097, 0.50161303, 0.65444941, 0.8653697 ,\n",
       "       0.43536641, 0.40103026, 0.54993968, 0.49634609, 0.43810147,\n",
       "       0.15930271, 0.94339484, 0.12688883, 0.65970393, 0.65094589,\n",
       "       0.90598402, 0.96283628, 0.93093658, 0.5651829 , 0.15018774,\n",
       "       0.45109595, 0.16819062, 0.58813657, 0.86094654, 0.73591601,\n",
       "       0.98564941, 0.20038017, 0.91608363, 0.34201921, 0.39795953,\n",
       "       0.68914367, 0.98707441, 0.55379934, 0.55464175, 0.52262259,\n",
       "       0.98903742, 0.3133119 , 0.66334374, 0.90694546, 0.9258202 ,\n",
       "       0.77031272, 0.994302  , 0.38275044, 0.86364007, 0.11049155,\n",
       "       0.94488149, 0.35296381, 0.30147595, 0.36208429, 0.01445401])"
      ]
     },
     "execution_count": 10,
     "metadata": {},
     "output_type": "execute_result"
    }
   ],
   "source": [
    "embedding_matrix[0]"
   ]
  },
  {
   "cell_type": "code",
   "execution_count": 11,
   "id": "adverse-fitness",
   "metadata": {},
   "outputs": [],
   "source": [
    "from sklearn.preprocessing import LabelEncoder"
   ]
  },
  {
   "cell_type": "code",
   "execution_count": 12,
   "id": "floppy-hollow",
   "metadata": {},
   "outputs": [],
   "source": [
    "label_enc = LabelEncoder()\n",
    "\n",
    "reviews['rating'] = label_enc.fit_transform(reviews['rating'].values)\n",
    "# reviews['rating'] = reviews['rating'].apply(lambda x: int(x))"
   ]
  },
  {
   "cell_type": "code",
   "execution_count": 13,
   "id": "boring-payroll",
   "metadata": {},
   "outputs": [
    {
     "data": {
      "text/plain": [
       "array([4, 2, 3, 0, 1], dtype=int64)"
      ]
     },
     "execution_count": 13,
     "metadata": {},
     "output_type": "execute_result"
    }
   ],
   "source": [
    "reviews['rating'].unique()"
   ]
  },
  {
   "cell_type": "code",
   "execution_count": 14,
   "id": "restricted-algorithm",
   "metadata": {},
   "outputs": [],
   "source": [
    "# reviews['Labels'] = reviews['Category'].apply(lambda x: labels_dict.get(x))"
   ]
  },
  {
   "cell_type": "code",
   "execution_count": 15,
   "id": "undefined-burning",
   "metadata": {},
   "outputs": [],
   "source": [
    "# Convert Categories to one-hot encoding\n",
    "labels = to_categorical(reviews['rating'])\n",
    "# labels = reviews['rating'].values"
   ]
  },
  {
   "cell_type": "code",
   "execution_count": 16,
   "id": "increasing-titanium",
   "metadata": {},
   "outputs": [
    {
     "data": {
      "text/plain": [
       "array([[0., 0., 0., 0., 1.],\n",
       "       [0., 0., 1., 0., 0.],\n",
       "       [0., 0., 0., 1., 0.],\n",
       "       [0., 0., 0., 0., 1.],\n",
       "       [0., 0., 0., 0., 1.]], dtype=float32)"
      ]
     },
     "execution_count": 16,
     "metadata": {},
     "output_type": "execute_result"
    }
   ],
   "source": [
    "labels[:5]"
   ]
  },
  {
   "cell_type": "code",
   "execution_count": 17,
   "id": "partial-oxide",
   "metadata": {},
   "outputs": [
    {
     "data": {
      "text/plain": [
       "0    4\n",
       "1    2\n",
       "2    3\n",
       "3    4\n",
       "4    4\n",
       "Name: rating, dtype: int64"
      ]
     },
     "execution_count": 17,
     "metadata": {},
     "output_type": "execute_result"
    }
   ],
   "source": [
    "reviews['rating'][:5]"
   ]
  },
  {
   "cell_type": "code",
   "execution_count": 18,
   "id": "specialized-placement",
   "metadata": {},
   "outputs": [],
   "source": [
    "def reverseEncoded(labels):\n",
    "    return np.argmax(labels, axis=1)"
   ]
  },
  {
   "cell_type": "code",
   "execution_count": 19,
   "id": "distributed-lindsay",
   "metadata": {},
   "outputs": [
    {
     "data": {
      "text/plain": [
       "array([4, 2, 3, 4, 4], dtype=int64)"
      ]
     },
     "execution_count": 19,
     "metadata": {},
     "output_type": "execute_result"
    }
   ],
   "source": [
    "reverseEncoded(labels)[:5]"
   ]
  },
  {
   "cell_type": "code",
   "execution_count": 19,
   "id": "collectible-region",
   "metadata": {},
   "outputs": [],
   "source": [
    "# Build a Classification Model\n",
    "model = Sequential([\n",
    "    Embedding(len(tokenizer.word_index) + 1, \n",
    "              EMBEDDING_DIM,\n",
    "              weights=[embedding_matrix],\n",
    "              input_length=630,\n",
    "              trainable=False),\n",
    "    SpatialDropout1D(0.2),\n",
    "    Bidirectional(LSTM(200, return_sequences=True)),\n",
    "    Dropout(0.2),\n",
    "#     Bidirectional(LSTM(200, return_sequences=True)),\n",
    "#     Dropout(0.2),\n",
    "    Bidirectional(LSTM(200)),\n",
    "    Dropout(0.2),\n",
    "    \n",
    "    Dense(512, activation='relu'),\n",
    "    Dropout(0.2),\n",
    "    Dense(5, activation='softmax')\n",
    "])"
   ]
  },
  {
   "cell_type": "code",
   "execution_count": 20,
   "id": "dangerous-white",
   "metadata": {},
   "outputs": [],
   "source": [
    "sgd = SGD(lr=0.01, decay=1e-6, momentum=0.9, nesterov=True)\n",
    "             \n",
    "model.compile(loss='categorical_crossentropy', \n",
    "              optimizer=sgd, \n",
    "              metrics=['accuracy'])"
   ]
  },
  {
   "cell_type": "code",
   "execution_count": 21,
   "id": "ecological-symbol",
   "metadata": {
    "scrolled": false
   },
   "outputs": [
    {
     "name": "stdout",
     "output_type": "stream",
     "text": [
      "Model: \"sequential\"\n",
      "_________________________________________________________________\n",
      "Layer (type)                 Output Shape              Param #   \n",
      "=================================================================\n",
      "embedding (Embedding)        (None, 630, 50)           650800    \n",
      "_________________________________________________________________\n",
      "spatial_dropout1d (SpatialDr (None, 630, 50)           0         \n",
      "_________________________________________________________________\n",
      "bidirectional (Bidirectional (None, 630, 400)          401600    \n",
      "_________________________________________________________________\n",
      "dropout (Dropout)            (None, 630, 400)          0         \n",
      "_________________________________________________________________\n",
      "bidirectional_1 (Bidirection (None, 400)               961600    \n",
      "_________________________________________________________________\n",
      "dropout_1 (Dropout)          (None, 400)               0         \n",
      "_________________________________________________________________\n",
      "dense (Dense)                (None, 512)               205312    \n",
      "_________________________________________________________________\n",
      "dropout_2 (Dropout)          (None, 512)               0         \n",
      "_________________________________________________________________\n",
      "dense_1 (Dense)              (None, 5)                 2565      \n",
      "=================================================================\n",
      "Total params: 2,221,877\n",
      "Trainable params: 1,571,077\n",
      "Non-trainable params: 650,800\n",
      "_________________________________________________________________\n"
     ]
    }
   ],
   "source": [
    "model.summary()"
   ]
  },
  {
   "cell_type": "code",
   "execution_count": 22,
   "id": "weighted-puppy",
   "metadata": {},
   "outputs": [],
   "source": [
    "# Split train and test data\n",
    "train_split = int(len(reviews_text) * 0.8)\n",
    "\n",
    "train_X = reviews_text[:train_split]\n",
    "train_Y = labels[:train_split]\n",
    "\n",
    "test_X = reviews_text[train_split:]\n",
    "test_Y = labels[train_split:]"
   ]
  },
  {
   "cell_type": "code",
   "execution_count": 23,
   "id": "demonstrated-mexico",
   "metadata": {},
   "outputs": [
    {
     "data": {
      "text/plain": [
       "array([[0., 0., 0., 0., 1.],\n",
       "       [0., 0., 1., 0., 0.],\n",
       "       [0., 0., 0., 1., 0.],\n",
       "       [0., 0., 0., 0., 1.],\n",
       "       [0., 0., 0., 0., 1.]], dtype=float32)"
      ]
     },
     "execution_count": 23,
     "metadata": {},
     "output_type": "execute_result"
    }
   ],
   "source": [
    "train_Y[:5]"
   ]
  },
  {
   "cell_type": "code",
   "execution_count": 24,
   "id": "humanitarian-reliance",
   "metadata": {},
   "outputs": [
    {
     "data": {
      "text/plain": [
       "((3980, 630), (995, 630), (3980, 5), (995, 5))"
      ]
     },
     "execution_count": 24,
     "metadata": {},
     "output_type": "execute_result"
    }
   ],
   "source": [
    "train_X.shape, test_X.shape, train_Y.shape, test_Y.shape"
   ]
  },
  {
   "cell_type": "code",
   "execution_count": 25,
   "id": "crazy-saturn",
   "metadata": {},
   "outputs": [],
   "source": [
    "# Create a callback to stop training once validation loss stops improving\n",
    "# earlystopping = EarlyStopping(\n",
    "#     monitor=\"val_loss\",N\n",
    "#     min_delta=0,\n",
    "#     patience=4,\n",
    "#     verbose=0,\n",
    "#     mode=\"auto\",\n",
    "# )"
   ]
  },
  {
   "cell_type": "code",
   "execution_count": 26,
   "id": "documented-prevention",
   "metadata": {},
   "outputs": [],
   "source": [
    "# filepath = \"best_model_word2vec.h5\"\n",
    "\n",
    "# model_checkpoint = ModelCheckpoint(\n",
    "#     filepath,\n",
    "#     save_weights_only=True,\n",
    "#     monitor='val_accuracy',\n",
    "#     mode='max',\n",
    "# )"
   ]
  },
  {
   "cell_type": "code",
   "execution_count": null,
   "id": "national-bench",
   "metadata": {
    "scrolled": false
   },
   "outputs": [
    {
     "name": "stdout",
     "output_type": "stream",
     "text": [
      "Epoch 1/25\n",
      "7/7 [==============================] - 163s 23s/step - loss: 1.2279 - accuracy: 0.6579 - val_loss: 1.3541 - val_accuracy: 0.5912\n",
      "Epoch 2/25\n",
      "7/7 [==============================] - 188s 27s/step - loss: 0.8320 - accuracy: 0.7862 - val_loss: 1.3368 - val_accuracy: 0.5912\n",
      "Epoch 3/25\n",
      "7/7 [==============================] - 221s 32s/step - loss: 0.7433 - accuracy: 0.7862 - val_loss: 1.0553 - val_accuracy: 0.5912\n",
      "Epoch 4/25\n",
      "7/7 [==============================] - 2901s 414s/step - loss: 0.7479 - accuracy: 0.7862 - val_loss: 1.1503 - val_accuracy: 0.5912\n",
      "Epoch 5/25\n",
      "7/7 [==============================] - 9250s 1321s/step - loss: 0.7316 - accuracy: 0.7862 - val_loss: 1.1394 - val_accuracy: 0.5912\n",
      "Epoch 6/25\n",
      "2/7 [=======>......................] - ETA: 2:44 - loss: 0.7199 - accuracy: 0.7852"
     ]
    }
   ],
   "source": [
    "EPOCHS = 25\n",
    "BATCH_SIZE = 128\n",
    "\n",
    "history = model.fit(train_X, train_Y, validation_split=0.8, epochs=EPOCHS, batch_size=BATCH_SIZE)"
   ]
  },
  {
   "cell_type": "code",
   "execution_count": null,
   "id": "elegant-consideration",
   "metadata": {},
   "outputs": [],
   "source": [
    "loss, accuracy = model.evaluate(test_X, test_Y)\n",
    "print(\"Loss: {}\\nAccuracy: {}\".format(loss, accuracy))"
   ]
  },
  {
   "cell_type": "code",
   "execution_count": null,
   "id": "sexual-links",
   "metadata": {},
   "outputs": [],
   "source": []
  }
 ],
 "metadata": {
  "kernelspec": {
   "display_name": "Python 3",
   "language": "python",
   "name": "python3"
  },
  "language_info": {
   "codemirror_mode": {
    "name": "ipython",
    "version": 3
   },
   "file_extension": ".py",
   "mimetype": "text/x-python",
   "name": "python",
   "nbconvert_exporter": "python",
   "pygments_lexer": "ipython3",
   "version": "3.8.8"
  }
 },
 "nbformat": 4,
 "nbformat_minor": 5
}
